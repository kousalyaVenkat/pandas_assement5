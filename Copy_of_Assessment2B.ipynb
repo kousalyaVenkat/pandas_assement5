{
  "cells": [
    {
      "cell_type": "markdown",
      "metadata": {
        "id": "xQLz0YMXSQGQ"
      },
      "source": [
        "###### Assessment"
      ]
    },
    {
      "cell_type": "markdown",
      "metadata": {
        "id": "pYZzpVdQSQGa"
      },
      "source": [
        "###### I am going to provide two .csv files , you are supposed to work on them and have to provide solutions to the following problems"
      ]
    },
    {
      "cell_type": "markdown",
      "metadata": {
        "id": "YGuMEeF3SQGb"
      },
      "source": [
        "###### import necessary libraries"
      ]
    },
    {
      "cell_type": "code",
      "execution_count": 1,
      "metadata": {
        "id": "Qf_9QEFiSQGc"
      },
      "outputs": [],
      "source": [
        "import numpy as np\n",
        "import pandas as pd\n"
      ]
    },
    {
      "cell_type": "markdown",
      "metadata": {
        "id": "R8BOMLrXSQGe"
      },
      "source": [
        "###### merge those two csv files (after getting as dataframes, get them as a single dataframe)"
      ]
    },
    {
      "cell_type": "code",
      "execution_count": 2,
      "metadata": {
        "colab": {
          "base_uri": "https://localhost:8080/",
          "height": 206
        },
        "id": "gSCipgyYSQGf",
        "outputId": "5a664670-fbbe-4b35-cbf4-8a27f9cead70"
      },
      "outputs": [
        {
          "output_type": "execute_result",
          "data": {
            "text/plain": [
              "          Name  python  mysql  Previous Geekions  CodeKata Score  \\\n",
              "0    A.Dharani    82.0   20.0              24500           24500   \n",
              "1  V.JEEVITHA     82.0   20.0              21740           21740   \n",
              "2  HEMAVATHI.R   100.0  100.0              19680           19680   \n",
              "3  Mugunthan S   100.0   47.0              10610           10610   \n",
              "4  Sathammai.S   100.0    8.0               8980            8980   \n",
              "\n",
              "                         Department  Rising  \n",
              "0  Computer Science and Engineering       0  \n",
              "1  Computer Science and Engineering       0  \n",
              "2  Computer Science and Engineering       0  \n",
              "3  Computer Science and Engineering       0  \n",
              "4  Computer Science and Engineering       0  "
            ],
            "text/html": [
              "\n",
              "  <div id=\"df-f91dc94d-2c3b-4da3-865e-92665f3a912e\">\n",
              "    <div class=\"colab-df-container\">\n",
              "      <div>\n",
              "<style scoped>\n",
              "    .dataframe tbody tr th:only-of-type {\n",
              "        vertical-align: middle;\n",
              "    }\n",
              "\n",
              "    .dataframe tbody tr th {\n",
              "        vertical-align: top;\n",
              "    }\n",
              "\n",
              "    .dataframe thead th {\n",
              "        text-align: right;\n",
              "    }\n",
              "</style>\n",
              "<table border=\"1\" class=\"dataframe\">\n",
              "  <thead>\n",
              "    <tr style=\"text-align: right;\">\n",
              "      <th></th>\n",
              "      <th>Name</th>\n",
              "      <th>python</th>\n",
              "      <th>mysql</th>\n",
              "      <th>Previous Geekions</th>\n",
              "      <th>CodeKata Score</th>\n",
              "      <th>Department</th>\n",
              "      <th>Rising</th>\n",
              "    </tr>\n",
              "  </thead>\n",
              "  <tbody>\n",
              "    <tr>\n",
              "      <th>0</th>\n",
              "      <td>A.Dharani</td>\n",
              "      <td>82.0</td>\n",
              "      <td>20.0</td>\n",
              "      <td>24500</td>\n",
              "      <td>24500</td>\n",
              "      <td>Computer Science and Engineering</td>\n",
              "      <td>0</td>\n",
              "    </tr>\n",
              "    <tr>\n",
              "      <th>1</th>\n",
              "      <td>V.JEEVITHA</td>\n",
              "      <td>82.0</td>\n",
              "      <td>20.0</td>\n",
              "      <td>21740</td>\n",
              "      <td>21740</td>\n",
              "      <td>Computer Science and Engineering</td>\n",
              "      <td>0</td>\n",
              "    </tr>\n",
              "    <tr>\n",
              "      <th>2</th>\n",
              "      <td>HEMAVATHI.R</td>\n",
              "      <td>100.0</td>\n",
              "      <td>100.0</td>\n",
              "      <td>19680</td>\n",
              "      <td>19680</td>\n",
              "      <td>Computer Science and Engineering</td>\n",
              "      <td>0</td>\n",
              "    </tr>\n",
              "    <tr>\n",
              "      <th>3</th>\n",
              "      <td>Mugunthan S</td>\n",
              "      <td>100.0</td>\n",
              "      <td>47.0</td>\n",
              "      <td>10610</td>\n",
              "      <td>10610</td>\n",
              "      <td>Computer Science and Engineering</td>\n",
              "      <td>0</td>\n",
              "    </tr>\n",
              "    <tr>\n",
              "      <th>4</th>\n",
              "      <td>Sathammai.S</td>\n",
              "      <td>100.0</td>\n",
              "      <td>8.0</td>\n",
              "      <td>8980</td>\n",
              "      <td>8980</td>\n",
              "      <td>Computer Science and Engineering</td>\n",
              "      <td>0</td>\n",
              "    </tr>\n",
              "  </tbody>\n",
              "</table>\n",
              "</div>\n",
              "      <button class=\"colab-df-convert\" onclick=\"convertToInteractive('df-f91dc94d-2c3b-4da3-865e-92665f3a912e')\"\n",
              "              title=\"Convert this dataframe to an interactive table.\"\n",
              "              style=\"display:none;\">\n",
              "        \n",
              "  <svg xmlns=\"http://www.w3.org/2000/svg\" height=\"24px\"viewBox=\"0 0 24 24\"\n",
              "       width=\"24px\">\n",
              "    <path d=\"M0 0h24v24H0V0z\" fill=\"none\"/>\n",
              "    <path d=\"M18.56 5.44l.94 2.06.94-2.06 2.06-.94-2.06-.94-.94-2.06-.94 2.06-2.06.94zm-11 1L8.5 8.5l.94-2.06 2.06-.94-2.06-.94L8.5 2.5l-.94 2.06-2.06.94zm10 10l.94 2.06.94-2.06 2.06-.94-2.06-.94-.94-2.06-.94 2.06-2.06.94z\"/><path d=\"M17.41 7.96l-1.37-1.37c-.4-.4-.92-.59-1.43-.59-.52 0-1.04.2-1.43.59L10.3 9.45l-7.72 7.72c-.78.78-.78 2.05 0 2.83L4 21.41c.39.39.9.59 1.41.59.51 0 1.02-.2 1.41-.59l7.78-7.78 2.81-2.81c.8-.78.8-2.07 0-2.86zM5.41 20L4 18.59l7.72-7.72 1.47 1.35L5.41 20z\"/>\n",
              "  </svg>\n",
              "      </button>\n",
              "      \n",
              "  <style>\n",
              "    .colab-df-container {\n",
              "      display:flex;\n",
              "      flex-wrap:wrap;\n",
              "      gap: 12px;\n",
              "    }\n",
              "\n",
              "    .colab-df-convert {\n",
              "      background-color: #E8F0FE;\n",
              "      border: none;\n",
              "      border-radius: 50%;\n",
              "      cursor: pointer;\n",
              "      display: none;\n",
              "      fill: #1967D2;\n",
              "      height: 32px;\n",
              "      padding: 0 0 0 0;\n",
              "      width: 32px;\n",
              "    }\n",
              "\n",
              "    .colab-df-convert:hover {\n",
              "      background-color: #E2EBFA;\n",
              "      box-shadow: 0px 1px 2px rgba(60, 64, 67, 0.3), 0px 1px 3px 1px rgba(60, 64, 67, 0.15);\n",
              "      fill: #174EA6;\n",
              "    }\n",
              "\n",
              "    [theme=dark] .colab-df-convert {\n",
              "      background-color: #3B4455;\n",
              "      fill: #D2E3FC;\n",
              "    }\n",
              "\n",
              "    [theme=dark] .colab-df-convert:hover {\n",
              "      background-color: #434B5C;\n",
              "      box-shadow: 0px 1px 3px 1px rgba(0, 0, 0, 0.15);\n",
              "      filter: drop-shadow(0px 1px 2px rgba(0, 0, 0, 0.3));\n",
              "      fill: #FFFFFF;\n",
              "    }\n",
              "  </style>\n",
              "\n",
              "      <script>\n",
              "        const buttonEl =\n",
              "          document.querySelector('#df-f91dc94d-2c3b-4da3-865e-92665f3a912e button.colab-df-convert');\n",
              "        buttonEl.style.display =\n",
              "          google.colab.kernel.accessAllowed ? 'block' : 'none';\n",
              "\n",
              "        async function convertToInteractive(key) {\n",
              "          const element = document.querySelector('#df-f91dc94d-2c3b-4da3-865e-92665f3a912e');\n",
              "          const dataTable =\n",
              "            await google.colab.kernel.invokeFunction('convertToInteractive',\n",
              "                                                     [key], {});\n",
              "          if (!dataTable) return;\n",
              "\n",
              "          const docLinkHtml = 'Like what you see? Visit the ' +\n",
              "            '<a target=\"_blank\" href=https://colab.research.google.com/notebooks/data_table.ipynb>data table notebook</a>'\n",
              "            + ' to learn more about interactive tables.';\n",
              "          element.innerHTML = '';\n",
              "          dataTable['output_type'] = 'display_data';\n",
              "          await google.colab.output.renderOutput(dataTable, element);\n",
              "          const docLink = document.createElement('div');\n",
              "          docLink.innerHTML = docLinkHtml;\n",
              "          element.appendChild(docLink);\n",
              "        }\n",
              "      </script>\n",
              "    </div>\n",
              "  </div>\n",
              "  "
            ]
          },
          "metadata": {},
          "execution_count": 2
        }
      ],
      "source": [
        "data1=pd.read_csv(\"college_1.csv\")\n",
        "data1.head()"
      ]
    },
    {
      "cell_type": "code",
      "execution_count": 3,
      "metadata": {
        "colab": {
          "base_uri": "https://localhost:8080/",
          "height": 302
        },
        "id": "TRk8crzCTqSR",
        "outputId": "dd753a53-e337-4735-ab6c-a385e328a61e"
      },
      "outputs": [
        {
          "output_type": "execute_result",
          "data": {
            "text/plain": [
              "                Name  python  python_en  mysql  computational_thinking  \\\n",
              "0      ASHOK KUMAR K     100          0     31                       9   \n",
              "1            Chandru       0         20      0                       0   \n",
              "2  Ganesh Ramkumar R      -1         55     24                       6   \n",
              "3    Bodipudi Harini      -1          0     35                      -1   \n",
              "4          VIINU V P      -1        100     24                      -1   \n",
              "\n",
              "   Previous Geekions  CodeKata Score  \\\n",
              "0              19400           19400   \n",
              "1              14150           14490   \n",
              "2               8790           10790   \n",
              "3              10040           10040   \n",
              "4               9150            9150   \n",
              "\n",
              "                                  Department  Rising  \n",
              "0     Electronics and Electrical Engineering       0  \n",
              "1           Computer Science and Engineering     340  \n",
              "2           Computer Science and Engineering    2000  \n",
              "3  Electronics and Communication Engineering       0  \n",
              "4     Electronics and Electrical Engineering       0  "
            ],
            "text/html": [
              "\n",
              "  <div id=\"df-f20714f6-dabd-4a36-b646-b66dc2841b79\">\n",
              "    <div class=\"colab-df-container\">\n",
              "      <div>\n",
              "<style scoped>\n",
              "    .dataframe tbody tr th:only-of-type {\n",
              "        vertical-align: middle;\n",
              "    }\n",
              "\n",
              "    .dataframe tbody tr th {\n",
              "        vertical-align: top;\n",
              "    }\n",
              "\n",
              "    .dataframe thead th {\n",
              "        text-align: right;\n",
              "    }\n",
              "</style>\n",
              "<table border=\"1\" class=\"dataframe\">\n",
              "  <thead>\n",
              "    <tr style=\"text-align: right;\">\n",
              "      <th></th>\n",
              "      <th>Name</th>\n",
              "      <th>python</th>\n",
              "      <th>python_en</th>\n",
              "      <th>mysql</th>\n",
              "      <th>computational_thinking</th>\n",
              "      <th>Previous Geekions</th>\n",
              "      <th>CodeKata Score</th>\n",
              "      <th>Department</th>\n",
              "      <th>Rising</th>\n",
              "    </tr>\n",
              "  </thead>\n",
              "  <tbody>\n",
              "    <tr>\n",
              "      <th>0</th>\n",
              "      <td>ASHOK KUMAR K</td>\n",
              "      <td>100</td>\n",
              "      <td>0</td>\n",
              "      <td>31</td>\n",
              "      <td>9</td>\n",
              "      <td>19400</td>\n",
              "      <td>19400</td>\n",
              "      <td>Electronics and Electrical Engineering</td>\n",
              "      <td>0</td>\n",
              "    </tr>\n",
              "    <tr>\n",
              "      <th>1</th>\n",
              "      <td>Chandru</td>\n",
              "      <td>0</td>\n",
              "      <td>20</td>\n",
              "      <td>0</td>\n",
              "      <td>0</td>\n",
              "      <td>14150</td>\n",
              "      <td>14490</td>\n",
              "      <td>Computer Science and Engineering</td>\n",
              "      <td>340</td>\n",
              "    </tr>\n",
              "    <tr>\n",
              "      <th>2</th>\n",
              "      <td>Ganesh Ramkumar R</td>\n",
              "      <td>-1</td>\n",
              "      <td>55</td>\n",
              "      <td>24</td>\n",
              "      <td>6</td>\n",
              "      <td>8790</td>\n",
              "      <td>10790</td>\n",
              "      <td>Computer Science and Engineering</td>\n",
              "      <td>2000</td>\n",
              "    </tr>\n",
              "    <tr>\n",
              "      <th>3</th>\n",
              "      <td>Bodipudi Harini</td>\n",
              "      <td>-1</td>\n",
              "      <td>0</td>\n",
              "      <td>35</td>\n",
              "      <td>-1</td>\n",
              "      <td>10040</td>\n",
              "      <td>10040</td>\n",
              "      <td>Electronics and Communication Engineering</td>\n",
              "      <td>0</td>\n",
              "    </tr>\n",
              "    <tr>\n",
              "      <th>4</th>\n",
              "      <td>VIINU V P</td>\n",
              "      <td>-1</td>\n",
              "      <td>100</td>\n",
              "      <td>24</td>\n",
              "      <td>-1</td>\n",
              "      <td>9150</td>\n",
              "      <td>9150</td>\n",
              "      <td>Electronics and Electrical Engineering</td>\n",
              "      <td>0</td>\n",
              "    </tr>\n",
              "  </tbody>\n",
              "</table>\n",
              "</div>\n",
              "      <button class=\"colab-df-convert\" onclick=\"convertToInteractive('df-f20714f6-dabd-4a36-b646-b66dc2841b79')\"\n",
              "              title=\"Convert this dataframe to an interactive table.\"\n",
              "              style=\"display:none;\">\n",
              "        \n",
              "  <svg xmlns=\"http://www.w3.org/2000/svg\" height=\"24px\"viewBox=\"0 0 24 24\"\n",
              "       width=\"24px\">\n",
              "    <path d=\"M0 0h24v24H0V0z\" fill=\"none\"/>\n",
              "    <path d=\"M18.56 5.44l.94 2.06.94-2.06 2.06-.94-2.06-.94-.94-2.06-.94 2.06-2.06.94zm-11 1L8.5 8.5l.94-2.06 2.06-.94-2.06-.94L8.5 2.5l-.94 2.06-2.06.94zm10 10l.94 2.06.94-2.06 2.06-.94-2.06-.94-.94-2.06-.94 2.06-2.06.94z\"/><path d=\"M17.41 7.96l-1.37-1.37c-.4-.4-.92-.59-1.43-.59-.52 0-1.04.2-1.43.59L10.3 9.45l-7.72 7.72c-.78.78-.78 2.05 0 2.83L4 21.41c.39.39.9.59 1.41.59.51 0 1.02-.2 1.41-.59l7.78-7.78 2.81-2.81c.8-.78.8-2.07 0-2.86zM5.41 20L4 18.59l7.72-7.72 1.47 1.35L5.41 20z\"/>\n",
              "  </svg>\n",
              "      </button>\n",
              "      \n",
              "  <style>\n",
              "    .colab-df-container {\n",
              "      display:flex;\n",
              "      flex-wrap:wrap;\n",
              "      gap: 12px;\n",
              "    }\n",
              "\n",
              "    .colab-df-convert {\n",
              "      background-color: #E8F0FE;\n",
              "      border: none;\n",
              "      border-radius: 50%;\n",
              "      cursor: pointer;\n",
              "      display: none;\n",
              "      fill: #1967D2;\n",
              "      height: 32px;\n",
              "      padding: 0 0 0 0;\n",
              "      width: 32px;\n",
              "    }\n",
              "\n",
              "    .colab-df-convert:hover {\n",
              "      background-color: #E2EBFA;\n",
              "      box-shadow: 0px 1px 2px rgba(60, 64, 67, 0.3), 0px 1px 3px 1px rgba(60, 64, 67, 0.15);\n",
              "      fill: #174EA6;\n",
              "    }\n",
              "\n",
              "    [theme=dark] .colab-df-convert {\n",
              "      background-color: #3B4455;\n",
              "      fill: #D2E3FC;\n",
              "    }\n",
              "\n",
              "    [theme=dark] .colab-df-convert:hover {\n",
              "      background-color: #434B5C;\n",
              "      box-shadow: 0px 1px 3px 1px rgba(0, 0, 0, 0.15);\n",
              "      filter: drop-shadow(0px 1px 2px rgba(0, 0, 0, 0.3));\n",
              "      fill: #FFFFFF;\n",
              "    }\n",
              "  </style>\n",
              "\n",
              "      <script>\n",
              "        const buttonEl =\n",
              "          document.querySelector('#df-f20714f6-dabd-4a36-b646-b66dc2841b79 button.colab-df-convert');\n",
              "        buttonEl.style.display =\n",
              "          google.colab.kernel.accessAllowed ? 'block' : 'none';\n",
              "\n",
              "        async function convertToInteractive(key) {\n",
              "          const element = document.querySelector('#df-f20714f6-dabd-4a36-b646-b66dc2841b79');\n",
              "          const dataTable =\n",
              "            await google.colab.kernel.invokeFunction('convertToInteractive',\n",
              "                                                     [key], {});\n",
              "          if (!dataTable) return;\n",
              "\n",
              "          const docLinkHtml = 'Like what you see? Visit the ' +\n",
              "            '<a target=\"_blank\" href=https://colab.research.google.com/notebooks/data_table.ipynb>data table notebook</a>'\n",
              "            + ' to learn more about interactive tables.';\n",
              "          element.innerHTML = '';\n",
              "          dataTable['output_type'] = 'display_data';\n",
              "          await google.colab.output.renderOutput(dataTable, element);\n",
              "          const docLink = document.createElement('div');\n",
              "          docLink.innerHTML = docLinkHtml;\n",
              "          element.appendChild(docLink);\n",
              "        }\n",
              "      </script>\n",
              "    </div>\n",
              "  </div>\n",
              "  "
            ]
          },
          "metadata": {},
          "execution_count": 3
        }
      ],
      "source": [
        "data2=pd.read_csv(\"college_2.csv\")\n",
        "data2.head()"
      ]
    },
    {
      "cell_type": "code",
      "execution_count": 4,
      "metadata": {
        "colab": {
          "base_uri": "https://localhost:8080/",
          "height": 250
        },
        "id": "2AEeSQ51T6zf",
        "outputId": "d06a7ad1-f032-42e3-d456-67fbf8c3b003"
      },
      "outputs": [
        {
          "output_type": "execute_result",
          "data": {
            "text/plain": [
              "          Name  python  mysql  Previous Geekions  CodeKata Score  \\\n",
              "0    A.Dharani    82.0   20.0              24500           24500   \n",
              "1  V.JEEVITHA     82.0   20.0              21740           21740   \n",
              "2  HEMAVATHI.R   100.0  100.0              19680           19680   \n",
              "3  Mugunthan S   100.0   47.0              10610           10610   \n",
              "4  Sathammai.S   100.0    8.0               8980            8980   \n",
              "\n",
              "                         Department  Rising  python_en  computational_thinking  \n",
              "0  Computer Science and Engineering       0        NaN                     NaN  \n",
              "1  Computer Science and Engineering       0        NaN                     NaN  \n",
              "2  Computer Science and Engineering       0        NaN                     NaN  \n",
              "3  Computer Science and Engineering       0        NaN                     NaN  \n",
              "4  Computer Science and Engineering       0        NaN                     NaN  "
            ],
            "text/html": [
              "\n",
              "  <div id=\"df-93b5b017-61f4-41ef-9d37-dd083bec5009\">\n",
              "    <div class=\"colab-df-container\">\n",
              "      <div>\n",
              "<style scoped>\n",
              "    .dataframe tbody tr th:only-of-type {\n",
              "        vertical-align: middle;\n",
              "    }\n",
              "\n",
              "    .dataframe tbody tr th {\n",
              "        vertical-align: top;\n",
              "    }\n",
              "\n",
              "    .dataframe thead th {\n",
              "        text-align: right;\n",
              "    }\n",
              "</style>\n",
              "<table border=\"1\" class=\"dataframe\">\n",
              "  <thead>\n",
              "    <tr style=\"text-align: right;\">\n",
              "      <th></th>\n",
              "      <th>Name</th>\n",
              "      <th>python</th>\n",
              "      <th>mysql</th>\n",
              "      <th>Previous Geekions</th>\n",
              "      <th>CodeKata Score</th>\n",
              "      <th>Department</th>\n",
              "      <th>Rising</th>\n",
              "      <th>python_en</th>\n",
              "      <th>computational_thinking</th>\n",
              "    </tr>\n",
              "  </thead>\n",
              "  <tbody>\n",
              "    <tr>\n",
              "      <th>0</th>\n",
              "      <td>A.Dharani</td>\n",
              "      <td>82.0</td>\n",
              "      <td>20.0</td>\n",
              "      <td>24500</td>\n",
              "      <td>24500</td>\n",
              "      <td>Computer Science and Engineering</td>\n",
              "      <td>0</td>\n",
              "      <td>NaN</td>\n",
              "      <td>NaN</td>\n",
              "    </tr>\n",
              "    <tr>\n",
              "      <th>1</th>\n",
              "      <td>V.JEEVITHA</td>\n",
              "      <td>82.0</td>\n",
              "      <td>20.0</td>\n",
              "      <td>21740</td>\n",
              "      <td>21740</td>\n",
              "      <td>Computer Science and Engineering</td>\n",
              "      <td>0</td>\n",
              "      <td>NaN</td>\n",
              "      <td>NaN</td>\n",
              "    </tr>\n",
              "    <tr>\n",
              "      <th>2</th>\n",
              "      <td>HEMAVATHI.R</td>\n",
              "      <td>100.0</td>\n",
              "      <td>100.0</td>\n",
              "      <td>19680</td>\n",
              "      <td>19680</td>\n",
              "      <td>Computer Science and Engineering</td>\n",
              "      <td>0</td>\n",
              "      <td>NaN</td>\n",
              "      <td>NaN</td>\n",
              "    </tr>\n",
              "    <tr>\n",
              "      <th>3</th>\n",
              "      <td>Mugunthan S</td>\n",
              "      <td>100.0</td>\n",
              "      <td>47.0</td>\n",
              "      <td>10610</td>\n",
              "      <td>10610</td>\n",
              "      <td>Computer Science and Engineering</td>\n",
              "      <td>0</td>\n",
              "      <td>NaN</td>\n",
              "      <td>NaN</td>\n",
              "    </tr>\n",
              "    <tr>\n",
              "      <th>4</th>\n",
              "      <td>Sathammai.S</td>\n",
              "      <td>100.0</td>\n",
              "      <td>8.0</td>\n",
              "      <td>8980</td>\n",
              "      <td>8980</td>\n",
              "      <td>Computer Science and Engineering</td>\n",
              "      <td>0</td>\n",
              "      <td>NaN</td>\n",
              "      <td>NaN</td>\n",
              "    </tr>\n",
              "  </tbody>\n",
              "</table>\n",
              "</div>\n",
              "      <button class=\"colab-df-convert\" onclick=\"convertToInteractive('df-93b5b017-61f4-41ef-9d37-dd083bec5009')\"\n",
              "              title=\"Convert this dataframe to an interactive table.\"\n",
              "              style=\"display:none;\">\n",
              "        \n",
              "  <svg xmlns=\"http://www.w3.org/2000/svg\" height=\"24px\"viewBox=\"0 0 24 24\"\n",
              "       width=\"24px\">\n",
              "    <path d=\"M0 0h24v24H0V0z\" fill=\"none\"/>\n",
              "    <path d=\"M18.56 5.44l.94 2.06.94-2.06 2.06-.94-2.06-.94-.94-2.06-.94 2.06-2.06.94zm-11 1L8.5 8.5l.94-2.06 2.06-.94-2.06-.94L8.5 2.5l-.94 2.06-2.06.94zm10 10l.94 2.06.94-2.06 2.06-.94-2.06-.94-.94-2.06-.94 2.06-2.06.94z\"/><path d=\"M17.41 7.96l-1.37-1.37c-.4-.4-.92-.59-1.43-.59-.52 0-1.04.2-1.43.59L10.3 9.45l-7.72 7.72c-.78.78-.78 2.05 0 2.83L4 21.41c.39.39.9.59 1.41.59.51 0 1.02-.2 1.41-.59l7.78-7.78 2.81-2.81c.8-.78.8-2.07 0-2.86zM5.41 20L4 18.59l7.72-7.72 1.47 1.35L5.41 20z\"/>\n",
              "  </svg>\n",
              "      </button>\n",
              "      \n",
              "  <style>\n",
              "    .colab-df-container {\n",
              "      display:flex;\n",
              "      flex-wrap:wrap;\n",
              "      gap: 12px;\n",
              "    }\n",
              "\n",
              "    .colab-df-convert {\n",
              "      background-color: #E8F0FE;\n",
              "      border: none;\n",
              "      border-radius: 50%;\n",
              "      cursor: pointer;\n",
              "      display: none;\n",
              "      fill: #1967D2;\n",
              "      height: 32px;\n",
              "      padding: 0 0 0 0;\n",
              "      width: 32px;\n",
              "    }\n",
              "\n",
              "    .colab-df-convert:hover {\n",
              "      background-color: #E2EBFA;\n",
              "      box-shadow: 0px 1px 2px rgba(60, 64, 67, 0.3), 0px 1px 3px 1px rgba(60, 64, 67, 0.15);\n",
              "      fill: #174EA6;\n",
              "    }\n",
              "\n",
              "    [theme=dark] .colab-df-convert {\n",
              "      background-color: #3B4455;\n",
              "      fill: #D2E3FC;\n",
              "    }\n",
              "\n",
              "    [theme=dark] .colab-df-convert:hover {\n",
              "      background-color: #434B5C;\n",
              "      box-shadow: 0px 1px 3px 1px rgba(0, 0, 0, 0.15);\n",
              "      filter: drop-shadow(0px 1px 2px rgba(0, 0, 0, 0.3));\n",
              "      fill: #FFFFFF;\n",
              "    }\n",
              "  </style>\n",
              "\n",
              "      <script>\n",
              "        const buttonEl =\n",
              "          document.querySelector('#df-93b5b017-61f4-41ef-9d37-dd083bec5009 button.colab-df-convert');\n",
              "        buttonEl.style.display =\n",
              "          google.colab.kernel.accessAllowed ? 'block' : 'none';\n",
              "\n",
              "        async function convertToInteractive(key) {\n",
              "          const element = document.querySelector('#df-93b5b017-61f4-41ef-9d37-dd083bec5009');\n",
              "          const dataTable =\n",
              "            await google.colab.kernel.invokeFunction('convertToInteractive',\n",
              "                                                     [key], {});\n",
              "          if (!dataTable) return;\n",
              "\n",
              "          const docLinkHtml = 'Like what you see? Visit the ' +\n",
              "            '<a target=\"_blank\" href=https://colab.research.google.com/notebooks/data_table.ipynb>data table notebook</a>'\n",
              "            + ' to learn more about interactive tables.';\n",
              "          element.innerHTML = '';\n",
              "          dataTable['output_type'] = 'display_data';\n",
              "          await google.colab.output.renderOutput(dataTable, element);\n",
              "          const docLink = document.createElement('div');\n",
              "          docLink.innerHTML = docLinkHtml;\n",
              "          element.appendChild(docLink);\n",
              "        }\n",
              "      </script>\n",
              "    </div>\n",
              "  </div>\n",
              "  "
            ]
          },
          "metadata": {},
          "execution_count": 4
        }
      ],
      "source": [
        "merged_data=pd.concat([data1,data2])\n",
        "merged_data.head()\n"
      ]
    },
    {
      "cell_type": "code",
      "execution_count": 5,
      "metadata": {
        "colab": {
          "base_uri": "https://localhost:8080/",
          "height": 302
        },
        "id": "y6M365xPUYd1",
        "outputId": "047fdc1d-ba6d-4bf8-ff19-2c6ae8e89fa2"
      },
      "outputs": [
        {
          "output_type": "execute_result",
          "data": {
            "text/plain": [
              "             Name  python  mysql  Previous Geekions  CodeKata Score  \\\n",
              "30  praveen raj j    24.0    0.0               2380            2380   \n",
              "31     AMARNATH D    -1.0   12.0               1890            1890   \n",
              "32           bala    32.0    0.0               1720            1720   \n",
              "33           XY Z    -1.0   -1.0                  0               0   \n",
              "34      Hariharan    -1.0   -1.0                  0               0   \n",
              "\n",
              "                                   Department  Rising  python_en  \\\n",
              "30           Computer Science and Engineering       0       -1.0   \n",
              "31  Electronics and Communication Engineering       0       52.0   \n",
              "32  Electronics and Communication Engineering       0       49.0   \n",
              "33           Computer Science and Engineering       0       20.0   \n",
              "34           Computer Science and Engineering       0       -1.0   \n",
              "\n",
              "    computational_thinking  \n",
              "30                     0.0  \n",
              "31                    -1.0  \n",
              "32                    -1.0  \n",
              "33                    -1.0  \n",
              "34                     0.0  "
            ],
            "text/html": [
              "\n",
              "  <div id=\"df-2ddef78d-ac37-4271-b774-1be5b287528b\">\n",
              "    <div class=\"colab-df-container\">\n",
              "      <div>\n",
              "<style scoped>\n",
              "    .dataframe tbody tr th:only-of-type {\n",
              "        vertical-align: middle;\n",
              "    }\n",
              "\n",
              "    .dataframe tbody tr th {\n",
              "        vertical-align: top;\n",
              "    }\n",
              "\n",
              "    .dataframe thead th {\n",
              "        text-align: right;\n",
              "    }\n",
              "</style>\n",
              "<table border=\"1\" class=\"dataframe\">\n",
              "  <thead>\n",
              "    <tr style=\"text-align: right;\">\n",
              "      <th></th>\n",
              "      <th>Name</th>\n",
              "      <th>python</th>\n",
              "      <th>mysql</th>\n",
              "      <th>Previous Geekions</th>\n",
              "      <th>CodeKata Score</th>\n",
              "      <th>Department</th>\n",
              "      <th>Rising</th>\n",
              "      <th>python_en</th>\n",
              "      <th>computational_thinking</th>\n",
              "    </tr>\n",
              "  </thead>\n",
              "  <tbody>\n",
              "    <tr>\n",
              "      <th>30</th>\n",
              "      <td>praveen raj j</td>\n",
              "      <td>24.0</td>\n",
              "      <td>0.0</td>\n",
              "      <td>2380</td>\n",
              "      <td>2380</td>\n",
              "      <td>Computer Science and Engineering</td>\n",
              "      <td>0</td>\n",
              "      <td>-1.0</td>\n",
              "      <td>0.0</td>\n",
              "    </tr>\n",
              "    <tr>\n",
              "      <th>31</th>\n",
              "      <td>AMARNATH D</td>\n",
              "      <td>-1.0</td>\n",
              "      <td>12.0</td>\n",
              "      <td>1890</td>\n",
              "      <td>1890</td>\n",
              "      <td>Electronics and Communication Engineering</td>\n",
              "      <td>0</td>\n",
              "      <td>52.0</td>\n",
              "      <td>-1.0</td>\n",
              "    </tr>\n",
              "    <tr>\n",
              "      <th>32</th>\n",
              "      <td>bala</td>\n",
              "      <td>32.0</td>\n",
              "      <td>0.0</td>\n",
              "      <td>1720</td>\n",
              "      <td>1720</td>\n",
              "      <td>Electronics and Communication Engineering</td>\n",
              "      <td>0</td>\n",
              "      <td>49.0</td>\n",
              "      <td>-1.0</td>\n",
              "    </tr>\n",
              "    <tr>\n",
              "      <th>33</th>\n",
              "      <td>XY Z</td>\n",
              "      <td>-1.0</td>\n",
              "      <td>-1.0</td>\n",
              "      <td>0</td>\n",
              "      <td>0</td>\n",
              "      <td>Computer Science and Engineering</td>\n",
              "      <td>0</td>\n",
              "      <td>20.0</td>\n",
              "      <td>-1.0</td>\n",
              "    </tr>\n",
              "    <tr>\n",
              "      <th>34</th>\n",
              "      <td>Hariharan</td>\n",
              "      <td>-1.0</td>\n",
              "      <td>-1.0</td>\n",
              "      <td>0</td>\n",
              "      <td>0</td>\n",
              "      <td>Computer Science and Engineering</td>\n",
              "      <td>0</td>\n",
              "      <td>-1.0</td>\n",
              "      <td>0.0</td>\n",
              "    </tr>\n",
              "  </tbody>\n",
              "</table>\n",
              "</div>\n",
              "      <button class=\"colab-df-convert\" onclick=\"convertToInteractive('df-2ddef78d-ac37-4271-b774-1be5b287528b')\"\n",
              "              title=\"Convert this dataframe to an interactive table.\"\n",
              "              style=\"display:none;\">\n",
              "        \n",
              "  <svg xmlns=\"http://www.w3.org/2000/svg\" height=\"24px\"viewBox=\"0 0 24 24\"\n",
              "       width=\"24px\">\n",
              "    <path d=\"M0 0h24v24H0V0z\" fill=\"none\"/>\n",
              "    <path d=\"M18.56 5.44l.94 2.06.94-2.06 2.06-.94-2.06-.94-.94-2.06-.94 2.06-2.06.94zm-11 1L8.5 8.5l.94-2.06 2.06-.94-2.06-.94L8.5 2.5l-.94 2.06-2.06.94zm10 10l.94 2.06.94-2.06 2.06-.94-2.06-.94-.94-2.06-.94 2.06-2.06.94z\"/><path d=\"M17.41 7.96l-1.37-1.37c-.4-.4-.92-.59-1.43-.59-.52 0-1.04.2-1.43.59L10.3 9.45l-7.72 7.72c-.78.78-.78 2.05 0 2.83L4 21.41c.39.39.9.59 1.41.59.51 0 1.02-.2 1.41-.59l7.78-7.78 2.81-2.81c.8-.78.8-2.07 0-2.86zM5.41 20L4 18.59l7.72-7.72 1.47 1.35L5.41 20z\"/>\n",
              "  </svg>\n",
              "      </button>\n",
              "      \n",
              "  <style>\n",
              "    .colab-df-container {\n",
              "      display:flex;\n",
              "      flex-wrap:wrap;\n",
              "      gap: 12px;\n",
              "    }\n",
              "\n",
              "    .colab-df-convert {\n",
              "      background-color: #E8F0FE;\n",
              "      border: none;\n",
              "      border-radius: 50%;\n",
              "      cursor: pointer;\n",
              "      display: none;\n",
              "      fill: #1967D2;\n",
              "      height: 32px;\n",
              "      padding: 0 0 0 0;\n",
              "      width: 32px;\n",
              "    }\n",
              "\n",
              "    .colab-df-convert:hover {\n",
              "      background-color: #E2EBFA;\n",
              "      box-shadow: 0px 1px 2px rgba(60, 64, 67, 0.3), 0px 1px 3px 1px rgba(60, 64, 67, 0.15);\n",
              "      fill: #174EA6;\n",
              "    }\n",
              "\n",
              "    [theme=dark] .colab-df-convert {\n",
              "      background-color: #3B4455;\n",
              "      fill: #D2E3FC;\n",
              "    }\n",
              "\n",
              "    [theme=dark] .colab-df-convert:hover {\n",
              "      background-color: #434B5C;\n",
              "      box-shadow: 0px 1px 3px 1px rgba(0, 0, 0, 0.15);\n",
              "      filter: drop-shadow(0px 1px 2px rgba(0, 0, 0, 0.3));\n",
              "      fill: #FFFFFF;\n",
              "    }\n",
              "  </style>\n",
              "\n",
              "      <script>\n",
              "        const buttonEl =\n",
              "          document.querySelector('#df-2ddef78d-ac37-4271-b774-1be5b287528b button.colab-df-convert');\n",
              "        buttonEl.style.display =\n",
              "          google.colab.kernel.accessAllowed ? 'block' : 'none';\n",
              "\n",
              "        async function convertToInteractive(key) {\n",
              "          const element = document.querySelector('#df-2ddef78d-ac37-4271-b774-1be5b287528b');\n",
              "          const dataTable =\n",
              "            await google.colab.kernel.invokeFunction('convertToInteractive',\n",
              "                                                     [key], {});\n",
              "          if (!dataTable) return;\n",
              "\n",
              "          const docLinkHtml = 'Like what you see? Visit the ' +\n",
              "            '<a target=\"_blank\" href=https://colab.research.google.com/notebooks/data_table.ipynb>data table notebook</a>'\n",
              "            + ' to learn more about interactive tables.';\n",
              "          element.innerHTML = '';\n",
              "          dataTable['output_type'] = 'display_data';\n",
              "          await google.colab.output.renderOutput(dataTable, element);\n",
              "          const docLink = document.createElement('div');\n",
              "          docLink.innerHTML = docLinkHtml;\n",
              "          element.appendChild(docLink);\n",
              "        }\n",
              "      </script>\n",
              "    </div>\n",
              "  </div>\n",
              "  "
            ]
          },
          "metadata": {},
          "execution_count": 5
        }
      ],
      "source": [
        "merged_data.tail()"
      ]
    },
    {
      "cell_type": "code",
      "execution_count": 6,
      "metadata": {
        "colab": {
          "base_uri": "https://localhost:8080/"
        },
        "id": "HzPZF2PYnKvU",
        "outputId": "453732a9-cd73-496e-b713-bc9685292294"
      },
      "outputs": [
        {
          "output_type": "execute_result",
          "data": {
            "text/plain": [
              "array(['Computer Science and Engineering',\n",
              "       'Electronics and Communication Engineering',\n",
              "       'Electronics and Electrical Engineering'], dtype=object)"
            ]
          },
          "metadata": {},
          "execution_count": 6
        }
      ],
      "source": [
        "merged_data['Department'].unique()"
      ]
    },
    {
      "cell_type": "code",
      "execution_count": 7,
      "metadata": {
        "colab": {
          "base_uri": "https://localhost:8080/"
        },
        "id": "xmXvA4urnycW",
        "outputId": "b3d7c2ef-caed-447b-a453-ace40ad04517"
      },
      "outputs": [
        {
          "output_type": "execute_result",
          "data": {
            "text/plain": [
              "Index(['Name', 'python', 'mysql', 'Previous Geekions', 'CodeKata Score',\n",
              "       'Department', 'Rising', 'python_en', 'computational_thinking'],\n",
              "      dtype='object')"
            ]
          },
          "metadata": {},
          "execution_count": 7
        }
      ],
      "source": [
        "merged_data.columns"
      ]
    },
    {
      "cell_type": "markdown",
      "metadata": {
        "id": "jXWg02l3SQGf"
      },
      "source": [
        "###### Take each csv file , split that csv file into multiple categories (example csv files are added in the repo) \n"
      ]
    },
    {
      "cell_type": "code",
      "execution_count": 54,
      "metadata": {
        "colab": {
          "base_uri": "https://localhost:8080/"
        },
        "id": "yUGOBuEYmj-Q",
        "outputId": "1ca43e89-1d8f-4d5a-9a9b-19dcaf11c603"
      },
      "outputs": [
        {
          "output_type": "stream",
          "name": "stdout",
          "text": [
            "                 Name  python  mysql  Previous Geekions  CodeKata Score  \\\n",
            "0           A.Dharani    82.0   20.0              24500           24500   \n",
            "1         V.JEEVITHA     82.0   20.0              21740           21740   \n",
            "2         HEMAVATHI.R   100.0  100.0              19680           19680   \n",
            "3         Mugunthan S   100.0   47.0              10610           10610   \n",
            "4         Sathammai.S   100.0    8.0               8980            8980   \n",
            "..                ...     ...    ...                ...             ...   \n",
            "58  Vimalesh Fernando    -1.0    0.0               4170            4170   \n",
            "59      M.Karthikeyan    -1.0    4.0               4020            4020   \n",
            "60      praveen raj j    24.0    0.0               2380            2380   \n",
            "61               XY Z    -1.0   -1.0                  0               0   \n",
            "62          Hariharan    -1.0   -1.0                  0               0   \n",
            "\n",
            "                          Department  Rising  python_en  \\\n",
            "0   Computer Science and Engineering       0        NaN   \n",
            "1   Computer Science and Engineering       0        NaN   \n",
            "2   Computer Science and Engineering       0        NaN   \n",
            "3   Computer Science and Engineering       0        NaN   \n",
            "4   Computer Science and Engineering       0        NaN   \n",
            "..                               ...     ...        ...   \n",
            "58  Computer Science and Engineering       0        0.0   \n",
            "59  Computer Science and Engineering       0        0.0   \n",
            "60  Computer Science and Engineering       0       -1.0   \n",
            "61  Computer Science and Engineering       0       20.0   \n",
            "62  Computer Science and Engineering       0       -1.0   \n",
            "\n",
            "    computational_thinking    CSian  dept_cs  dept_eee  dept_ece  \n",
            "0                      NaN  24500.0  24500.0       NaN       NaN  \n",
            "1                      NaN  21740.0  21740.0       NaN       NaN  \n",
            "2                      NaN  19680.0  19680.0       NaN       NaN  \n",
            "3                      NaN  10610.0  10610.0       NaN       NaN  \n",
            "4                      NaN   8980.0   8980.0       NaN       NaN  \n",
            "..                     ...      ...      ...       ...       ...  \n",
            "58                     0.0   4170.0   4170.0       NaN       NaN  \n",
            "59                     6.0   4020.0   4020.0       NaN       NaN  \n",
            "60                     0.0   2380.0   2380.0       NaN       NaN  \n",
            "61                    -1.0      0.0      0.0       NaN       NaN  \n",
            "62                     0.0      0.0      0.0       NaN       NaN  \n",
            "\n",
            "[63 rows x 13 columns]\n",
            "                          Name  python   mysql  Previous Geekions  \\\n",
            "0                KALAIARASAN K    85.0   47.00               7750   \n",
            "1                   J.SUGANTHI    27.0   50.00               5860   \n",
            "2              Iyappan Samiraj    50.0   24.00               5400   \n",
            "3              Melvin Dukles.R    56.0   20.00               4800   \n",
            "4                  v.vithyasri   100.0   12.00               4370   \n",
            "5           Abirami Anbazhagan   100.0    0.00               4320   \n",
            "6                 kamalishwari    32.0   20.00               3665   \n",
            "7                    Tpavithra   100.0   24.00               3200   \n",
            "8                     shankari    87.5   20.00               3000   \n",
            "9                   SarumathiR    16.0   35.00               2240   \n",
            "10                    Barath D    74.0    4.00               1910   \n",
            "11                     vignesh    85.0    0.00               1740   \n",
            "12                   ABIRAMI.S    82.0    0.00               1580   \n",
            "13                  v.gowsalya    53.0   50.00               1440   \n",
            "14  siva sai perumal polisetti   100.0   12.00               1240   \n",
            "15                 MadhumathiB    16.0   35.00               1130   \n",
            "16                    bavithra     0.0  100.00               1020   \n",
            "17                   Deivani.S     0.0   86.25                980   \n",
            "18                   Nivetha.S     0.0   50.00                950   \n",
            "19                 GUNAMATHI.S     0.0   77.00                850   \n",
            "20                   RANJITH.R   100.0    0.00                800   \n",
            "21                    u.abarna     3.0   39.00                770   \n",
            "22                kaviyarasi.k    16.0   28.75                760   \n",
            "23                     M.PRIYA    43.0   24.00                690   \n",
            "24                M.Nisha@mary    11.0   20.00                580   \n",
            "25                muvendiran.m   100.0    7.50                410   \n",
            "26                    E.Nalini     3.0    0.00                270   \n",
            "27                    gousalya    56.0   27.00                170   \n",
            "28                 sivaranjini     0.0    3.75                160   \n",
            "29                   vignesh B    82.0   20.00                120   \n",
            "30              rajesh kumar.r    30.0    0.00                100   \n",
            "31             Bodipudi Harini    -1.0   35.00              10040   \n",
            "32                   Gowtham R    -1.0    4.00               8650   \n",
            "33                   Praneetha    -1.0  100.00               7170   \n",
            "34                     Guhan S    -1.0   35.00               7310   \n",
            "35               P.GOVARDHANAN    -1.0    0.00               5050   \n",
            "36                   Abishak s    -1.0   35.00               3220   \n",
            "37                  AMARNATH D    -1.0   12.00               1890   \n",
            "38                        bala    32.0    0.00               1720   \n",
            "\n",
            "    CodeKata Score                                 Department  Rising  \\\n",
            "0             7880  Electronics and Communication Engineering     130   \n",
            "1             5860  Electronics and Communication Engineering       0   \n",
            "2             5400  Electronics and Communication Engineering       0   \n",
            "3             4800  Electronics and Communication Engineering       0   \n",
            "4             4370  Electronics and Communication Engineering       0   \n",
            "5             4320  Electronics and Communication Engineering       0   \n",
            "6             3665  Electronics and Communication Engineering       0   \n",
            "7             3200  Electronics and Communication Engineering       0   \n",
            "8             3000  Electronics and Communication Engineering       0   \n",
            "9             2240  Electronics and Communication Engineering       0   \n",
            "10            1910  Electronics and Communication Engineering       0   \n",
            "11            1740  Electronics and Communication Engineering       0   \n",
            "12            1580  Electronics and Communication Engineering       0   \n",
            "13            1440  Electronics and Communication Engineering       0   \n",
            "14            1240  Electronics and Communication Engineering       0   \n",
            "15            1130  Electronics and Communication Engineering       0   \n",
            "16            1020  Electronics and Communication Engineering       0   \n",
            "17             980  Electronics and Communication Engineering       0   \n",
            "18             950  Electronics and Communication Engineering       0   \n",
            "19             850  Electronics and Communication Engineering       0   \n",
            "20             800  Electronics and Communication Engineering       0   \n",
            "21             770  Electronics and Communication Engineering       0   \n",
            "22             760  Electronics and Communication Engineering       0   \n",
            "23             690  Electronics and Communication Engineering       0   \n",
            "24             580  Electronics and Communication Engineering       0   \n",
            "25             410  Electronics and Communication Engineering       0   \n",
            "26             270  Electronics and Communication Engineering       0   \n",
            "27             170  Electronics and Communication Engineering       0   \n",
            "28             160  Electronics and Communication Engineering       0   \n",
            "29             120  Electronics and Communication Engineering       0   \n",
            "30             100  Electronics and Communication Engineering       0   \n",
            "31           10040  Electronics and Communication Engineering       0   \n",
            "32            8650  Electronics and Communication Engineering       0   \n",
            "33            7730  Electronics and Communication Engineering     560   \n",
            "34            7630  Electronics and Communication Engineering     320   \n",
            "35            5050  Electronics and Communication Engineering       0   \n",
            "36            3220  Electronics and Communication Engineering       0   \n",
            "37            1890  Electronics and Communication Engineering       0   \n",
            "38            1720  Electronics and Communication Engineering       0   \n",
            "\n",
            "    python_en  computational_thinking  CSian  dept_cs  dept_eee  dept_ece  \n",
            "0         NaN                     NaN    NaN      NaN       NaN    7880.0  \n",
            "1         NaN                     NaN    NaN      NaN       NaN    5860.0  \n",
            "2         NaN                     NaN    NaN      NaN       NaN    5400.0  \n",
            "3         NaN                     NaN    NaN      NaN       NaN    4800.0  \n",
            "4         NaN                     NaN    NaN      NaN       NaN    4370.0  \n",
            "5         NaN                     NaN    NaN      NaN       NaN    4320.0  \n",
            "6         NaN                     NaN    NaN      NaN       NaN    3665.0  \n",
            "7         NaN                     NaN    NaN      NaN       NaN    3200.0  \n",
            "8         NaN                     NaN    NaN      NaN       NaN    3000.0  \n",
            "9         NaN                     NaN    NaN      NaN       NaN    2240.0  \n",
            "10        NaN                     NaN    NaN      NaN       NaN    1910.0  \n",
            "11        NaN                     NaN    NaN      NaN       NaN    1740.0  \n",
            "12        NaN                     NaN    NaN      NaN       NaN    1580.0  \n",
            "13        NaN                     NaN    NaN      NaN       NaN    1440.0  \n",
            "14        NaN                     NaN    NaN      NaN       NaN    1240.0  \n",
            "15        NaN                     NaN    NaN      NaN       NaN    1130.0  \n",
            "16        NaN                     NaN    NaN      NaN       NaN    1020.0  \n",
            "17        NaN                     NaN    NaN      NaN       NaN     980.0  \n",
            "18        NaN                     NaN    NaN      NaN       NaN     950.0  \n",
            "19        NaN                     NaN    NaN      NaN       NaN     850.0  \n",
            "20        NaN                     NaN    NaN      NaN       NaN     800.0  \n",
            "21        NaN                     NaN    NaN      NaN       NaN     770.0  \n",
            "22        NaN                     NaN    NaN      NaN       NaN     760.0  \n",
            "23        NaN                     NaN    NaN      NaN       NaN     690.0  \n",
            "24        NaN                     NaN    NaN      NaN       NaN     580.0  \n",
            "25        NaN                     NaN    NaN      NaN       NaN     410.0  \n",
            "26        NaN                     NaN    NaN      NaN       NaN     270.0  \n",
            "27        NaN                     NaN    NaN      NaN       NaN     170.0  \n",
            "28        NaN                     NaN    NaN      NaN       NaN     160.0  \n",
            "29        NaN                     NaN    NaN      NaN       NaN     120.0  \n",
            "30        NaN                     NaN    NaN      NaN       NaN     100.0  \n",
            "31        0.0                    -1.0    NaN      NaN       NaN   10040.0  \n",
            "32       60.0                     6.0    NaN      NaN       NaN    8650.0  \n",
            "33       23.0                    -1.0    NaN      NaN       NaN    7730.0  \n",
            "34       72.0                    39.0    NaN      NaN       NaN    7630.0  \n",
            "35       40.0                    -1.0    NaN      NaN       NaN    5050.0  \n",
            "36       55.0                     6.0    NaN      NaN       NaN    3220.0  \n",
            "37       52.0                    -1.0    NaN      NaN       NaN    1890.0  \n",
            "38       49.0                    -1.0    NaN      NaN       NaN    1720.0  \n",
            "               Name  python  mysql  Previous Geekions  CodeKata Score  \\\n",
            "0        k.parvathi   100.0  100.0                260             260   \n",
            "1       m.keerthana    97.5    0.0                120             120   \n",
            "2        Subhashini   100.0    4.0                120             120   \n",
            "3   J.Bhuvaneshwari   100.0   20.0                100             100   \n",
            "4          santhosh    82.0   12.0                 60              60   \n",
            "5        J.JAYANTHI   100.0  100.0                 40              40   \n",
            "6      vikneshwaran   100.0    4.0                 40              40   \n",
            "7      KarthikeyanS    45.0    0.0                  0               0   \n",
            "8          BARATH.P    29.0    0.0                  0               0   \n",
            "9     N.Ajith kumar    82.0    0.0                  0               0   \n",
            "10     mohamed nabi     0.0    0.0                  0               0   \n",
            "11   yaser ahamed.A     0.0   27.0                  0               0   \n",
            "12    ASHOK KUMAR K   100.0   31.0              19400           19400   \n",
            "13        VIINU V P    -1.0   24.0               9150            9150   \n",
            "14         shifak N    58.0    0.0               5180            8320   \n",
            "15          Balaji     -1.0   20.0               6170            8160   \n",
            "16         JPradhap   100.0    0.0               7340            8030   \n",
            "\n",
            "                                Department  Rising  python_en  \\\n",
            "0   Electronics and Electrical Engineering       0        NaN   \n",
            "1   Electronics and Electrical Engineering       0        NaN   \n",
            "2   Electronics and Electrical Engineering       0        NaN   \n",
            "3   Electronics and Electrical Engineering       0        NaN   \n",
            "4   Electronics and Electrical Engineering       0        NaN   \n",
            "5   Electronics and Electrical Engineering       0        NaN   \n",
            "6   Electronics and Electrical Engineering       0        NaN   \n",
            "7   Electronics and Electrical Engineering       0        NaN   \n",
            "8   Electronics and Electrical Engineering       0        NaN   \n",
            "9   Electronics and Electrical Engineering       0        NaN   \n",
            "10  Electronics and Electrical Engineering       0        NaN   \n",
            "11  Electronics and Electrical Engineering       0        NaN   \n",
            "12  Electronics and Electrical Engineering       0        0.0   \n",
            "13  Electronics and Electrical Engineering       0      100.0   \n",
            "14  Electronics and Electrical Engineering    3140        0.0   \n",
            "15  Electronics and Electrical Engineering    1990      100.0   \n",
            "16  Electronics and Electrical Engineering     690        0.0   \n",
            "\n",
            "    computational_thinking  CSian  dept_cs  dept_eee  dept_ece  \n",
            "0                      NaN    NaN      NaN     260.0       NaN  \n",
            "1                      NaN    NaN      NaN     120.0       NaN  \n",
            "2                      NaN    NaN      NaN     120.0       NaN  \n",
            "3                      NaN    NaN      NaN     100.0       NaN  \n",
            "4                      NaN    NaN      NaN      60.0       NaN  \n",
            "5                      NaN    NaN      NaN      40.0       NaN  \n",
            "6                      NaN    NaN      NaN      40.0       NaN  \n",
            "7                      NaN    NaN      NaN       0.0       NaN  \n",
            "8                      NaN    NaN      NaN       0.0       NaN  \n",
            "9                      NaN    NaN      NaN       0.0       NaN  \n",
            "10                     NaN    NaN      NaN       0.0       NaN  \n",
            "11                     NaN    NaN      NaN       0.0       NaN  \n",
            "12                     9.0    NaN      NaN   19400.0       NaN  \n",
            "13                    -1.0    NaN      NaN    9150.0       NaN  \n",
            "14                     0.0    NaN      NaN    8320.0       NaN  \n",
            "15                     0.0    NaN      NaN    8160.0       NaN  \n",
            "16                     0.0    NaN      NaN    8030.0       NaN  \n"
          ]
        }
      ],
      "source": [
        "import pandas as pd\n",
        " \n",
        "for (Department), group in merged_data.groupby(['Department']):\n",
        "     group.to_csv(f'{Department}.csv', index=False)\n",
        " \n",
        "print(pd.read_csv(\"Computer Science and Engineering.csv\"))\n",
        "print(pd.read_csv(\"Electronics and Communication Engineering.csv\"))\n",
        "print(pd.read_csv(\"Electronics and Electrical Engineering.csv\"))"
      ]
    },
    {
      "cell_type": "markdown",
      "metadata": {
        "id": "WXS1xxCZSQGg"
      },
      "source": [
        "###### consider if the codekata score exceeds 15000 points(present week) then make a csv on those observations as Exceeded expectations.csv\n"
      ]
    },
    {
      "cell_type": "code",
      "execution_count": 55,
      "metadata": {
        "id": "DD8QN7YpwlDg"
      },
      "outputs": [],
      "source": [
        "Exceeded_expectations=merged_data[(merged_data['CodeKata Score'] >15000 )]\n",
        "Exceeded_expectations.to_csv('Exceeded_expectations.csv',mode='a',index=False, header=True)"
      ]
    },
    {
      "cell_type": "markdown",
      "metadata": {
        "id": "nlfdRqPUSQGh"
      },
      "source": [
        "###### if  10000<codekata score<15000   (Reached_expectations.csv)\n",
        "\n"
      ]
    },
    {
      "cell_type": "code",
      "execution_count": 56,
      "metadata": {
        "id": "JwlotFIe0BUV"
      },
      "outputs": [],
      "source": [
        "Reached_expectation=merged_data[(merged_data['CodeKata Score']>10000)&(merged_data['CodeKata Score']<15000)]"
      ]
    },
    {
      "cell_type": "code",
      "execution_count": 57,
      "metadata": {
        "id": "vcdDKBfcDVEU"
      },
      "outputs": [],
      "source": [
        "Reached_expectation.to_csv('Reached_expectation.csv',mode='a',index=False, header=True)"
      ]
    },
    {
      "cell_type": "markdown",
      "metadata": {
        "id": "8G1pGzlwSQGi"
      },
      "source": [
        "###### if  7000<codekata score<10000   (Needs_Improvement.csv)\n"
      ]
    },
    {
      "cell_type": "code",
      "execution_count": 58,
      "metadata": {
        "id": "I-WEbX8T14_L"
      },
      "outputs": [],
      "source": [
        "Needs_Improvement=merged_data[(merged_data['CodeKata Score']<10000)]\n",
        "\n",
        "Needs_Improvement.to_csv('Needs_Improvement.csv', mode='a',index=False, header=True)\n"
      ]
    },
    {
      "cell_type": "markdown",
      "metadata": {
        "id": "6nI05541SQGj"
      },
      "source": [
        "###### if  codekate score < 7000        (Unsatisfactory.csv)"
      ]
    },
    {
      "cell_type": "code",
      "execution_count": 59,
      "metadata": {
        "id": "lnrNlOA-SQGk"
      },
      "outputs": [],
      "source": [
        "Unsatisfactory=merged_data[(merged_data['CodeKata Score']<7000)]\n",
        "\n",
        "Unsatisfactory.to_csv('Unsatisfactory.csv', mode='a',index=False, header=True)\n",
        " \n"
      ]
    },
    {
      "cell_type": "code",
      "execution_count": null,
      "metadata": {
        "colab": {
          "base_uri": "https://localhost:8080/"
        },
        "id": "QSLaCUc0Ep8m",
        "outputId": "80171397-bf44-4673-eeed-e0b371b7c5e7"
      },
      "outputs": [
        {
          "name": "stdout",
          "output_type": "stream",
          "text": [
            "             Name  python  mysql  Previous Geekions  CodeKata Score  \\\n",
            "0       A.Dharani    82.0   20.0              24500           24500   \n",
            "1     V.JEEVITHA     82.0   20.0              21740           21740   \n",
            "2     HEMAVATHI.R   100.0  100.0              19680           19680   \n",
            "3     Mugunthan S   100.0   47.0              10610           10610   \n",
            "4     Sathammai.S   100.0    8.0               8980            8980   \n",
            "..            ...     ...    ...                ...             ...   \n",
            "30  praveen raj j    24.0    0.0               2380            2380   \n",
            "31     AMARNATH D    -1.0   12.0               1890            1890   \n",
            "32           bala    32.0    0.0               1720            1720   \n",
            "33           XY Z    -1.0   -1.0                  0               0   \n",
            "34      Hariharan    -1.0   -1.0                  0               0   \n",
            "\n",
            "                                   Department  Rising  python_en  \\\n",
            "0            Computer Science and Engineering       0        NaN   \n",
            "1            Computer Science and Engineering       0        NaN   \n",
            "2            Computer Science and Engineering       0        NaN   \n",
            "3            Computer Science and Engineering       0        NaN   \n",
            "4            Computer Science and Engineering       0        NaN   \n",
            "..                                        ...     ...        ...   \n",
            "30           Computer Science and Engineering       0       -1.0   \n",
            "31  Electronics and Communication Engineering       0       52.0   \n",
            "32  Electronics and Communication Engineering       0       49.0   \n",
            "33           Computer Science and Engineering       0       20.0   \n",
            "34           Computer Science and Engineering       0       -1.0   \n",
            "\n",
            "    computational_thinking  \n",
            "0                      NaN  \n",
            "1                      NaN  \n",
            "2                      NaN  \n",
            "3                      NaN  \n",
            "4                      NaN  \n",
            "..                     ...  \n",
            "30                     0.0  \n",
            "31                    -1.0  \n",
            "32                    -1.0  \n",
            "33                    -1.0  \n",
            "34                     0.0  \n",
            "\n",
            "[119 rows x 9 columns]\n"
          ]
        }
      ],
      "source": [
        "print(merged_data)"
      ]
    },
    {
      "cell_type": "markdown",
      "metadata": {
        "id": "4YFv9CtnSQGl"
      },
      "source": [
        "###### Average of previous week geekions vs this week geekions (i.e Previous Geekions vs CodeKata Score)"
      ]
    },
    {
      "cell_type": "code",
      "source": [
        "a=merged_data[merged_data[\"Rising\"]!=0]\n",
        "print(\"codeketa_participants\",len(a))"
      ],
      "metadata": {
        "colab": {
          "base_uri": "https://localhost:8080/"
        },
        "id": "HyVVrgoYdWdW",
        "outputId": "763b1ef4-150d-4810-d5e8-95e16355fa1d"
      },
      "execution_count": 61,
      "outputs": [
        {
          "output_type": "stream",
          "name": "stdout",
          "text": [
            "codeketa_participants 22\n"
          ]
        }
      ]
    },
    {
      "cell_type": "code",
      "execution_count": null,
      "metadata": {
        "colab": {
          "base_uri": "https://localhost:8080/"
        },
        "id": "eQ6xLt1fB0Fv",
        "outputId": "42f5e7c7-c744-4a0c-cbde-d200548f7dd7"
      },
      "outputs": [
        {
          "data": {
            "text/plain": [
              "Previous Geekions    3842.352941\n",
              "CodeKata Score       4051.764706\n",
              "dtype: float64"
            ]
          },
          "execution_count": 9,
          "metadata": {},
          "output_type": "execute_result"
        }
      ],
      "source": [
        "merged_data[['Previous Geekions','CodeKata Score']].mean()"
      ]
    },
    {
      "cell_type": "markdown",
      "metadata": {
        "id": "hmDrE7uHSQGn"
      },
      "source": [
        "###### No of students participated "
      ]
    },
    {
      "cell_type": "code",
      "execution_count": 8,
      "metadata": {
        "colab": {
          "base_uri": "https://localhost:8080/"
        },
        "id": "_ef70QmnSQGn",
        "outputId": "3316c186-5bd8-4e4c-84c6-57c5f4de6c9e"
      },
      "outputs": [
        {
          "output_type": "execute_result",
          "data": {
            "text/plain": [
              "119"
            ]
          },
          "metadata": {},
          "execution_count": 8
        }
      ],
      "source": [
        "merged_data['Name'].count()"
      ]
    },
    {
      "cell_type": "markdown",
      "metadata": {
        "id": "dDN-LbOhSQGo"
      },
      "source": [
        "###### #Average completion of python course or my_sql or python english or computational thinking"
      ]
    },
    {
      "cell_type": "code",
      "execution_count": 9,
      "metadata": {
        "colab": {
          "base_uri": "https://localhost:8080/"
        },
        "id": "Lj4pjD8uSQGp",
        "outputId": "dc6e3320-3520-4099-8f98-7f87a48f033b"
      },
      "outputs": [
        {
          "output_type": "execute_result",
          "data": {
            "text/plain": [
              "python                    54.352941\n",
              "mysql                     23.500000\n",
              "python_en                 29.657143\n",
              "computational_thinking     2.200000\n",
              "dtype: float64"
            ]
          },
          "metadata": {},
          "execution_count": 9
        }
      ],
      "source": [
        "merged_data[['python','mysql','python_en','computational_thinking']].mean()"
      ]
    },
    {
      "cell_type": "markdown",
      "metadata": {
        "id": "0peg128qSQGp"
      },
      "source": [
        "###### rising star of the week (top 3 candidate who performed well in that particular week)"
      ]
    },
    {
      "cell_type": "code",
      "execution_count": 11,
      "metadata": {
        "id": "haHURkvdSQGs",
        "colab": {
          "base_uri": "https://localhost:8080/"
        },
        "outputId": "c6046da5-ae65-4168-c79b-964549a138d5"
      },
      "outputs": [
        {
          "output_type": "stream",
          "name": "stdout",
          "text": [
            "1             shifak N\n",
            "2       Narasimhan Y L\n",
            "3    Ganesh Ramkumar R\n",
            "Name: Name, dtype: object\n"
          ]
        }
      ],
      "source": [
        "rising=merged_data.sort_values(\"Rising\",ascending=False,ignore_index=True)\n",
        "rising.index+=1\n",
        "print(rising[\"Name\"].head(3))"
      ]
    },
    {
      "cell_type": "markdown",
      "metadata": {
        "id": "kz8xhnoZSQGt"
      },
      "source": [
        "###### Shining stars of the week (top 3 candidates who has highest geekions)"
      ]
    },
    {
      "cell_type": "code",
      "execution_count": 13,
      "metadata": {
        "id": "iJW08FepSQGu",
        "colab": {
          "base_uri": "https://localhost:8080/"
        },
        "outputId": "bc53f5d1-4670-49e5-8f36-058803300fe9"
      },
      "outputs": [
        {
          "output_type": "stream",
          "name": "stdout",
          "text": [
            "1      A.Dharani\n",
            "2    V.JEEVITHA \n",
            "3    HEMAVATHI.R\n",
            "Name: Name, dtype: object\n"
          ]
        }
      ],
      "source": [
        "shining=merged_data.sort_values(\"Previous Geekions\",ascending=False)\n",
        "shining.index+=1\n",
        "print(shining[\"Name\"].head(3))"
      ]
    },
    {
      "cell_type": "markdown",
      "metadata": {
        "id": "mM0y_by0SQGv"
      },
      "source": [
        "###### Department wise codekata performence (pie chart)"
      ]
    },
    {
      "cell_type": "code",
      "source": [
        "import plotly.express as px\n",
        "fig=px.pie(merged_data,names=[\"ECE\",\"EEE\",\"CSE \"],values=(merged_data.groupby(\"Department\")[\"CodeKata Score\"]).mean(),title=\"performance by each dept\")\n",
        "fig.show()\n"
      ],
      "metadata": {
        "colab": {
          "base_uri": "https://localhost:8080/",
          "height": 542
        },
        "id": "8ZJNQa0Ts92z",
        "outputId": "38510eb7-8c52-4ffb-8716-8d65ef64ae16"
      },
      "execution_count": 52,
      "outputs": [
        {
          "output_type": "display_data",
          "data": {
            "text/html": [
              "<html>\n",
              "<head><meta charset=\"utf-8\" /></head>\n",
              "<body>\n",
              "    <div>            <script src=\"https://cdnjs.cloudflare.com/ajax/libs/mathjax/2.7.5/MathJax.js?config=TeX-AMS-MML_SVG\"></script><script type=\"text/javascript\">if (window.MathJax) {MathJax.Hub.Config({SVG: {font: \"STIX-Web\"}});}</script>                <script type=\"text/javascript\">window.PlotlyConfig = {MathJaxConfig: 'local'};</script>\n",
              "        <script src=\"https://cdn.plot.ly/plotly-2.8.3.min.js\"></script>                <div id=\"ec650253-e79f-4d61-825c-f4a535d1e863\" class=\"plotly-graph-div\" style=\"height:525px; width:100%;\"></div>            <script type=\"text/javascript\">                                    window.PLOTLYENV=window.PLOTLYENV || {};                                    if (document.getElementById(\"ec650253-e79f-4d61-825c-f4a535d1e863\")) {                    Plotly.newPlot(                        \"ec650253-e79f-4d61-825c-f4a535d1e863\",                        [{\"domain\":{\"x\":[0.0,1.0],\"y\":[0.0,1.0]},\"hovertemplate\":\"label=%{label}<br>value=%{value}<extra></extra>\",\"labels\":[\"ECE\",\"EEE\",\"CSE \"],\"legendgroup\":\"\",\"name\":\"\",\"showlegend\":true,\"values\":[5079.761904761905,2777.8205128205127,3164.705882352941],\"type\":\"pie\"}],                        {\"template\":{\"data\":{\"bar\":[{\"error_x\":{\"color\":\"#2a3f5f\"},\"error_y\":{\"color\":\"#2a3f5f\"},\"marker\":{\"line\":{\"color\":\"#E5ECF6\",\"width\":0.5},\"pattern\":{\"fillmode\":\"overlay\",\"size\":10,\"solidity\":0.2}},\"type\":\"bar\"}],\"barpolar\":[{\"marker\":{\"line\":{\"color\":\"#E5ECF6\",\"width\":0.5},\"pattern\":{\"fillmode\":\"overlay\",\"size\":10,\"solidity\":0.2}},\"type\":\"barpolar\"}],\"carpet\":[{\"aaxis\":{\"endlinecolor\":\"#2a3f5f\",\"gridcolor\":\"white\",\"linecolor\":\"white\",\"minorgridcolor\":\"white\",\"startlinecolor\":\"#2a3f5f\"},\"baxis\":{\"endlinecolor\":\"#2a3f5f\",\"gridcolor\":\"white\",\"linecolor\":\"white\",\"minorgridcolor\":\"white\",\"startlinecolor\":\"#2a3f5f\"},\"type\":\"carpet\"}],\"choropleth\":[{\"colorbar\":{\"outlinewidth\":0,\"ticks\":\"\"},\"type\":\"choropleth\"}],\"contour\":[{\"colorbar\":{\"outlinewidth\":0,\"ticks\":\"\"},\"colorscale\":[[0.0,\"#0d0887\"],[0.1111111111111111,\"#46039f\"],[0.2222222222222222,\"#7201a8\"],[0.3333333333333333,\"#9c179e\"],[0.4444444444444444,\"#bd3786\"],[0.5555555555555556,\"#d8576b\"],[0.6666666666666666,\"#ed7953\"],[0.7777777777777778,\"#fb9f3a\"],[0.8888888888888888,\"#fdca26\"],[1.0,\"#f0f921\"]],\"type\":\"contour\"}],\"contourcarpet\":[{\"colorbar\":{\"outlinewidth\":0,\"ticks\":\"\"},\"type\":\"contourcarpet\"}],\"heatmap\":[{\"colorbar\":{\"outlinewidth\":0,\"ticks\":\"\"},\"colorscale\":[[0.0,\"#0d0887\"],[0.1111111111111111,\"#46039f\"],[0.2222222222222222,\"#7201a8\"],[0.3333333333333333,\"#9c179e\"],[0.4444444444444444,\"#bd3786\"],[0.5555555555555556,\"#d8576b\"],[0.6666666666666666,\"#ed7953\"],[0.7777777777777778,\"#fb9f3a\"],[0.8888888888888888,\"#fdca26\"],[1.0,\"#f0f921\"]],\"type\":\"heatmap\"}],\"heatmapgl\":[{\"colorbar\":{\"outlinewidth\":0,\"ticks\":\"\"},\"colorscale\":[[0.0,\"#0d0887\"],[0.1111111111111111,\"#46039f\"],[0.2222222222222222,\"#7201a8\"],[0.3333333333333333,\"#9c179e\"],[0.4444444444444444,\"#bd3786\"],[0.5555555555555556,\"#d8576b\"],[0.6666666666666666,\"#ed7953\"],[0.7777777777777778,\"#fb9f3a\"],[0.8888888888888888,\"#fdca26\"],[1.0,\"#f0f921\"]],\"type\":\"heatmapgl\"}],\"histogram\":[{\"marker\":{\"pattern\":{\"fillmode\":\"overlay\",\"size\":10,\"solidity\":0.2}},\"type\":\"histogram\"}],\"histogram2d\":[{\"colorbar\":{\"outlinewidth\":0,\"ticks\":\"\"},\"colorscale\":[[0.0,\"#0d0887\"],[0.1111111111111111,\"#46039f\"],[0.2222222222222222,\"#7201a8\"],[0.3333333333333333,\"#9c179e\"],[0.4444444444444444,\"#bd3786\"],[0.5555555555555556,\"#d8576b\"],[0.6666666666666666,\"#ed7953\"],[0.7777777777777778,\"#fb9f3a\"],[0.8888888888888888,\"#fdca26\"],[1.0,\"#f0f921\"]],\"type\":\"histogram2d\"}],\"histogram2dcontour\":[{\"colorbar\":{\"outlinewidth\":0,\"ticks\":\"\"},\"colorscale\":[[0.0,\"#0d0887\"],[0.1111111111111111,\"#46039f\"],[0.2222222222222222,\"#7201a8\"],[0.3333333333333333,\"#9c179e\"],[0.4444444444444444,\"#bd3786\"],[0.5555555555555556,\"#d8576b\"],[0.6666666666666666,\"#ed7953\"],[0.7777777777777778,\"#fb9f3a\"],[0.8888888888888888,\"#fdca26\"],[1.0,\"#f0f921\"]],\"type\":\"histogram2dcontour\"}],\"mesh3d\":[{\"colorbar\":{\"outlinewidth\":0,\"ticks\":\"\"},\"type\":\"mesh3d\"}],\"parcoords\":[{\"line\":{\"colorbar\":{\"outlinewidth\":0,\"ticks\":\"\"}},\"type\":\"parcoords\"}],\"pie\":[{\"automargin\":true,\"type\":\"pie\"}],\"scatter\":[{\"marker\":{\"colorbar\":{\"outlinewidth\":0,\"ticks\":\"\"}},\"type\":\"scatter\"}],\"scatter3d\":[{\"line\":{\"colorbar\":{\"outlinewidth\":0,\"ticks\":\"\"}},\"marker\":{\"colorbar\":{\"outlinewidth\":0,\"ticks\":\"\"}},\"type\":\"scatter3d\"}],\"scattercarpet\":[{\"marker\":{\"colorbar\":{\"outlinewidth\":0,\"ticks\":\"\"}},\"type\":\"scattercarpet\"}],\"scattergeo\":[{\"marker\":{\"colorbar\":{\"outlinewidth\":0,\"ticks\":\"\"}},\"type\":\"scattergeo\"}],\"scattergl\":[{\"marker\":{\"colorbar\":{\"outlinewidth\":0,\"ticks\":\"\"}},\"type\":\"scattergl\"}],\"scattermapbox\":[{\"marker\":{\"colorbar\":{\"outlinewidth\":0,\"ticks\":\"\"}},\"type\":\"scattermapbox\"}],\"scatterpolar\":[{\"marker\":{\"colorbar\":{\"outlinewidth\":0,\"ticks\":\"\"}},\"type\":\"scatterpolar\"}],\"scatterpolargl\":[{\"marker\":{\"colorbar\":{\"outlinewidth\":0,\"ticks\":\"\"}},\"type\":\"scatterpolargl\"}],\"scatterternary\":[{\"marker\":{\"colorbar\":{\"outlinewidth\":0,\"ticks\":\"\"}},\"type\":\"scatterternary\"}],\"surface\":[{\"colorbar\":{\"outlinewidth\":0,\"ticks\":\"\"},\"colorscale\":[[0.0,\"#0d0887\"],[0.1111111111111111,\"#46039f\"],[0.2222222222222222,\"#7201a8\"],[0.3333333333333333,\"#9c179e\"],[0.4444444444444444,\"#bd3786\"],[0.5555555555555556,\"#d8576b\"],[0.6666666666666666,\"#ed7953\"],[0.7777777777777778,\"#fb9f3a\"],[0.8888888888888888,\"#fdca26\"],[1.0,\"#f0f921\"]],\"type\":\"surface\"}],\"table\":[{\"cells\":{\"fill\":{\"color\":\"#EBF0F8\"},\"line\":{\"color\":\"white\"}},\"header\":{\"fill\":{\"color\":\"#C8D4E3\"},\"line\":{\"color\":\"white\"}},\"type\":\"table\"}]},\"layout\":{\"annotationdefaults\":{\"arrowcolor\":\"#2a3f5f\",\"arrowhead\":0,\"arrowwidth\":1},\"autotypenumbers\":\"strict\",\"coloraxis\":{\"colorbar\":{\"outlinewidth\":0,\"ticks\":\"\"}},\"colorscale\":{\"diverging\":[[0,\"#8e0152\"],[0.1,\"#c51b7d\"],[0.2,\"#de77ae\"],[0.3,\"#f1b6da\"],[0.4,\"#fde0ef\"],[0.5,\"#f7f7f7\"],[0.6,\"#e6f5d0\"],[0.7,\"#b8e186\"],[0.8,\"#7fbc41\"],[0.9,\"#4d9221\"],[1,\"#276419\"]],\"sequential\":[[0.0,\"#0d0887\"],[0.1111111111111111,\"#46039f\"],[0.2222222222222222,\"#7201a8\"],[0.3333333333333333,\"#9c179e\"],[0.4444444444444444,\"#bd3786\"],[0.5555555555555556,\"#d8576b\"],[0.6666666666666666,\"#ed7953\"],[0.7777777777777778,\"#fb9f3a\"],[0.8888888888888888,\"#fdca26\"],[1.0,\"#f0f921\"]],\"sequentialminus\":[[0.0,\"#0d0887\"],[0.1111111111111111,\"#46039f\"],[0.2222222222222222,\"#7201a8\"],[0.3333333333333333,\"#9c179e\"],[0.4444444444444444,\"#bd3786\"],[0.5555555555555556,\"#d8576b\"],[0.6666666666666666,\"#ed7953\"],[0.7777777777777778,\"#fb9f3a\"],[0.8888888888888888,\"#fdca26\"],[1.0,\"#f0f921\"]]},\"colorway\":[\"#636efa\",\"#EF553B\",\"#00cc96\",\"#ab63fa\",\"#FFA15A\",\"#19d3f3\",\"#FF6692\",\"#B6E880\",\"#FF97FF\",\"#FECB52\"],\"font\":{\"color\":\"#2a3f5f\"},\"geo\":{\"bgcolor\":\"white\",\"lakecolor\":\"white\",\"landcolor\":\"#E5ECF6\",\"showlakes\":true,\"showland\":true,\"subunitcolor\":\"white\"},\"hoverlabel\":{\"align\":\"left\"},\"hovermode\":\"closest\",\"mapbox\":{\"style\":\"light\"},\"paper_bgcolor\":\"white\",\"plot_bgcolor\":\"#E5ECF6\",\"polar\":{\"angularaxis\":{\"gridcolor\":\"white\",\"linecolor\":\"white\",\"ticks\":\"\"},\"bgcolor\":\"#E5ECF6\",\"radialaxis\":{\"gridcolor\":\"white\",\"linecolor\":\"white\",\"ticks\":\"\"}},\"scene\":{\"xaxis\":{\"backgroundcolor\":\"#E5ECF6\",\"gridcolor\":\"white\",\"gridwidth\":2,\"linecolor\":\"white\",\"showbackground\":true,\"ticks\":\"\",\"zerolinecolor\":\"white\"},\"yaxis\":{\"backgroundcolor\":\"#E5ECF6\",\"gridcolor\":\"white\",\"gridwidth\":2,\"linecolor\":\"white\",\"showbackground\":true,\"ticks\":\"\",\"zerolinecolor\":\"white\"},\"zaxis\":{\"backgroundcolor\":\"#E5ECF6\",\"gridcolor\":\"white\",\"gridwidth\":2,\"linecolor\":\"white\",\"showbackground\":true,\"ticks\":\"\",\"zerolinecolor\":\"white\"}},\"shapedefaults\":{\"line\":{\"color\":\"#2a3f5f\"}},\"ternary\":{\"aaxis\":{\"gridcolor\":\"white\",\"linecolor\":\"white\",\"ticks\":\"\"},\"baxis\":{\"gridcolor\":\"white\",\"linecolor\":\"white\",\"ticks\":\"\"},\"bgcolor\":\"#E5ECF6\",\"caxis\":{\"gridcolor\":\"white\",\"linecolor\":\"white\",\"ticks\":\"\"}},\"title\":{\"x\":0.05},\"xaxis\":{\"automargin\":true,\"gridcolor\":\"white\",\"linecolor\":\"white\",\"ticks\":\"\",\"title\":{\"standoff\":15},\"zerolinecolor\":\"white\",\"zerolinewidth\":2},\"yaxis\":{\"automargin\":true,\"gridcolor\":\"white\",\"linecolor\":\"white\",\"ticks\":\"\",\"title\":{\"standoff\":15},\"zerolinecolor\":\"white\",\"zerolinewidth\":2}}},\"legend\":{\"tracegroupgap\":0},\"title\":{\"text\":\"performance by each dept\"}},                        {\"responsive\": true}                    ).then(function(){\n",
              "                            \n",
              "var gd = document.getElementById('ec650253-e79f-4d61-825c-f4a535d1e863');\n",
              "var x = new MutationObserver(function (mutations, observer) {{\n",
              "        var display = window.getComputedStyle(gd).display;\n",
              "        if (!display || display === 'none') {{\n",
              "            console.log([gd, 'removed!']);\n",
              "            Plotly.purge(gd);\n",
              "            observer.disconnect();\n",
              "        }}\n",
              "}});\n",
              "\n",
              "// Listen for the removal of the full notebook cells\n",
              "var notebookContainer = gd.closest('#notebook-container');\n",
              "if (notebookContainer) {{\n",
              "    x.observe(notebookContainer, {childList: true});\n",
              "}}\n",
              "\n",
              "// Listen for the clearing of the current output cell\n",
              "var outputEl = gd.closest('.output');\n",
              "if (outputEl) {{\n",
              "    x.observe(outputEl, {childList: true});\n",
              "}}\n",
              "\n",
              "                        })                };                            </script>        </div>\n",
              "</body>\n",
              "</html>"
            ]
          },
          "metadata": {}
        }
      ]
    },
    {
      "cell_type": "code",
      "execution_count": null,
      "metadata": {
        "id": "yl5Xx7KJHnRb"
      },
      "outputs": [],
      "source": [
        "\n",
        "\n",
        "import matplotlib.pyplot as plt\n",
        "import numpy as np\n",
        "\n",
        "y = np.array([merged_data['Codeketa Score'],merged_data['Department']])\n",
        "mylabels = [\"Computer Science and Engineering\", \"Electronics and Communication Engineering\", \"Electronics and Electrical Engineering\"]\n",
        "\n",
        "plt.pie(y, labels = mylabels)\n",
        "plt.show() "
      ]
    },
    {
      "cell_type": "markdown",
      "metadata": {
        "id": "E5s0E8slSQGw"
      },
      "source": [
        "###### Department wise toppers (horizantal bar graph or any visual representations of your choice)"
      ]
    },
    {
      "cell_type": "code",
      "execution_count": 16,
      "metadata": {
        "id": "WN9Z9xbmSQGw",
        "colab": {
          "base_uri": "https://localhost:8080/"
        },
        "outputId": "be2fcd52-74fe-4712-dc2b-6affd312e281"
      },
      "outputs": [
        {
          "output_type": "stream",
          "name": "stdout",
          "text": [
            "1      A.Dharani\n",
            "2    V.JEEVITHA \n",
            "3    HEMAVATHI.R\n",
            "Name: Name, dtype: object\n"
          ]
        }
      ],
      "source": [
        "def dept_cs(row):\n",
        "  if row[\"Department\"]==\"Computer Science and Engineering\":\n",
        "    return row[\"CodeKata Score\"]\n",
        "merged_data[\"dept_cs\"]=merged_data.apply(dept_cs,axis=1)\n",
        "\n",
        "topper_cs=merged_data.sort_values(\"dept_cs\",ascending=False,ignore_index=True).head(3)\n",
        "topper_cs.index +=1\n",
        "print(topper_cs[\"Name\"])\n",
        "\n"
      ]
    },
    {
      "cell_type": "code",
      "source": [
        "def dept_eee(row):\n",
        "  if row[\"Department\"]==\"Electronics and Electrical Engineering\":\n",
        "    return row[\"CodeKata Score\"]\n",
        "\n"
      ],
      "metadata": {
        "id": "732vfG5VhEyE"
      },
      "execution_count": 17,
      "outputs": []
    },
    {
      "cell_type": "code",
      "source": [
        "merged_data[\"dept_eee\"]=merged_data.apply(dept_eee,axis=1)"
      ],
      "metadata": {
        "id": "9ZA9AhIOhm5x"
      },
      "execution_count": 18,
      "outputs": []
    },
    {
      "cell_type": "code",
      "source": [
        "topper_eee=merged_data.sort_values(\"dept_eee\",ascending=False,ignore_index=True).head(3)\n",
        "topper_eee.index +=1\n",
        "print(topper_eee[\"Name\"])"
      ],
      "metadata": {
        "colab": {
          "base_uri": "https://localhost:8080/"
        },
        "id": "2o3coz7uho96",
        "outputId": "9fd41851-7911-4f0c-ac1a-e1194faa9ea1"
      },
      "execution_count": 19,
      "outputs": [
        {
          "output_type": "stream",
          "name": "stdout",
          "text": [
            "1    ASHOK KUMAR K\n",
            "2        VIINU V P\n",
            "3         shifak N\n",
            "Name: Name, dtype: object\n"
          ]
        }
      ]
    },
    {
      "cell_type": "code",
      "source": [
        "\n",
        "def dept_ece(row):\n",
        "  if row[\"Department\"]==\"Electronics and Communication Engineering\":\n",
        "    return row[\"CodeKata Score\"]\n"
      ],
      "metadata": {
        "id": "xCibjc2Zh1Gi"
      },
      "execution_count": 20,
      "outputs": []
    },
    {
      "cell_type": "code",
      "source": [
        "merged_data[\"dept_ece\"]=merged_data.apply(dept_ece,axis=1)"
      ],
      "metadata": {
        "id": "79-P4YrZiGfD"
      },
      "execution_count": 22,
      "outputs": []
    },
    {
      "cell_type": "code",
      "execution_count": 23,
      "metadata": {
        "id": "aKK_uDkCSQGy",
        "colab": {
          "base_uri": "https://localhost:8080/"
        },
        "outputId": "417e8edb-fbf0-4a58-8f3f-e5c142f0af06"
      },
      "outputs": [
        {
          "output_type": "stream",
          "name": "stdout",
          "text": [
            "1    Bodipudi Harini\n",
            "2          Gowtham R\n",
            "3      KALAIARASAN K\n",
            "Name: Name, dtype: object\n"
          ]
        }
      ],
      "source": [
        "topper_ece=merged_data.sort_values(\"dept_ece\",ascending=False,ignore_index=True).head(3)\n",
        "topper_ece.index +=1\n",
        "print(topper_ece[\"Name\"])"
      ]
    },
    {
      "cell_type": "code",
      "source": [
        "import matplotlib.pyplot as plt\n"
      ],
      "metadata": {
        "id": "fszg9QlxknL2"
      },
      "execution_count": 25,
      "outputs": []
    },
    {
      "cell_type": "code",
      "source": [
        "plt.figure(figsize=(20,10))\n",
        "plt.subplot(4,4,1)\n",
        "plt.barh(topper_eee[\"Name\"],topper_eee[\"CodeKata Score\"],fc=\"pink\")\n",
        "plt.title(\"toppers_of_eee\")\n",
        "plt.xlabel(\"codeketa score\")\n",
        "plt.ylabel(\"toppers name\")"
      ],
      "metadata": {
        "colab": {
          "base_uri": "https://localhost:8080/",
          "height": 196
        },
        "id": "vLWdRtu2cxdo",
        "outputId": "50437e98-cf18-43d1-9c79-b6e31fddfbba"
      },
      "execution_count": 35,
      "outputs": [
        {
          "output_type": "display_data",
          "data": {
            "text/plain": [
              "<Figure size 1440x720 with 1 Axes>"
            ],
            "image/png": "[encoded data removed]"
          },
          "metadata": {
            "needs_background": "light"
          }
        }
      ]
    },
    {
      "cell_type": "code",
      "source": [
        "plt.figure(figsize=(20,10))\n",
        "plt.subplot(4,4,2)\n",
        "plt.barh(topper_ece[\"Name\"],topper_ece[\"CodeKata Score\"],fc=\"red\")\n",
        "\n",
        "plt.title(\"toppers_of_ece\")\n",
        "plt.xlabel(\"codeketa score\")\n",
        "plt.ylabel(\"toppers name\")"
      ],
      "metadata": {
        "colab": {
          "base_uri": "https://localhost:8080/",
          "height": 213
        },
        "id": "Mn9af7tJlk0V",
        "outputId": "c040bcb0-2d0a-49fc-c0e8-65ca56104ba1"
      },
      "execution_count": 46,
      "outputs": [
        {
          "output_type": "execute_result",
          "data": {
            "text/plain": [
              "Text(0, 0.5, 'toppers name')"
            ]
          },
          "metadata": {},
          "execution_count": 46
        },
        {
          "output_type": "display_data",
          "data": {
            "text/plain": [
              "<Figure size 1440x720 with 1 Axes>"
            ],
            "image/png": "[encoded data removed]"
          },
          "metadata": {
            "needs_background": "light"
          }
        }
      ]
    },
    {
      "cell_type": "code",
      "source": [
        "plt.figure(figsize=(20,10))\n",
        "plt.subplot(4,4,2)\n",
        "plt.barh(topper_cs[\"Name\"],topper_cs[\"CodeKata Score\"],fc=\"Crimson\")\n",
        "\n",
        "plt.title(\"toppers_of_cs\")\n",
        "plt.xlabel(\"codeketa score\")\n",
        "plt.ylabel(\"toppers name\")"
      ],
      "metadata": {
        "colab": {
          "base_uri": "https://localhost:8080/",
          "height": 213
        },
        "id": "u6tq5pHWc2rg",
        "outputId": "37810d9d-2f36-418a-f994-7cc78d26747c"
      },
      "execution_count": 47,
      "outputs": [
        {
          "output_type": "execute_result",
          "data": {
            "text/plain": [
              "Text(0, 0.5, 'toppers name')"
            ]
          },
          "metadata": {},
          "execution_count": 47
        },
        {
          "output_type": "display_data",
          "data": {
            "text/plain": [
              "<Figure size 1440x720 with 1 Axes>"
            ],
            "image/png": "[encoded data removed]"
          },
          "metadata": {
            "needs_background": "light"
          }
        }
      ]
    },
    {
      "cell_type": "code",
      "source": [
        "topper_cs[\"CodeKata Score\"]"
      ],
      "metadata": {
        "id": "1k1RuXCEq2Zi"
      },
      "execution_count": null,
      "outputs": []
    },
    {
      "cell_type": "code",
      "source": [
        "topper_ece[\"CodeKata Score\"]\n",
        "topper_eee[\"CodeKata Score\"]"
      ],
      "metadata": {
        "id": "xKldlUF8q_Cc"
      },
      "execution_count": null,
      "outputs": []
    }
  ],
  "metadata": {
    "colab": {
      "provenance": []
    },
    "kernelspec": {
      "display_name": "Python 3",
      "language": "python",
      "name": "python3"
    },
    "language_info": {
      "codemirror_mode": {
        "name": "ipython",
        "version": 3
      },
      "file_extension": ".py",
      "mimetype": "text/x-python",
      "name": "python",
      "nbconvert_exporter": "python",
      "pygments_lexer": "ipython3",
      "version": "3.8.3"
    }
  },
  "nbformat": 4,
  "nbformat_minor": 0
}